{
 "cells": [
  {
   "cell_type": "markdown",
   "metadata": {},
   "source": [
    "### Problem Discription\n",
    "\n",
    "Recognizing multi-digit numbers in photographs captured at street level is an important component of modern-day map making. A classic example of a corpus of such street level photographs is Google’s Street View imagery comprised of hundreds of millions of geo-located 360 degree panoramic images. The ability to automatically transcribe an address number from a geo-located patch of pixels and associate the transcribed number with a known street address helps pinpoint, with a high degree of accuracy, the location of the building it represents. More broadly, recognizing numbers in photographs is a problem of interest to the optical character recognition community. While OCR on constrained domains like document processing is well studied, arbitrary multi-character text recognition in photographs is still highly challenging. This difficulty arises due to the wide variability in the visual appearance of text in the wild on account of a large range of fonts, colours, styles, orientations, and character arrangements. The recognition problem is further complicated by environmental factors such as lighting, shadows, secularities, and occlusions as well as by image acquisition factors such as resolution, motion, and focus blurs. In this project we will use dataset with images centred around a single digit (many of the images do contain some distractors at the sides). Although we are taking a sample of the data which is simpler, it is more complex than MNIST because of the distractors."
   ]
  },
  {
   "cell_type": "markdown",
   "metadata": {},
   "source": [
    "### Data Description:\n",
    "\n",
    "**The Street View House Numbers (SVHN):** \n",
    "Dataset SVHN is a real-world image dataset for developing machine learning and object recognition algorithms with minimal requirement on data formatting but comes from a significantly harder, unsolved, real world problem (recognizing digits and numbers in natural scene images). SVHN is obtained from house numbers in Google Street View images."
   ]
  },
  {
   "cell_type": "markdown",
   "metadata": {},
   "source": [
    "**Link to the dataset:** https://drive.google.com/file/d/1L2-WXzguhUsCArrFUc8EEkXcj33pahoS/view?usp=sharing"
   ]
  },
  {
   "cell_type": "markdown",
   "metadata": {},
   "source": [
    "### Objective:\n",
    "The objective of the project is to learn how to implement a simple image classification pipeline based on a deep neural network"
   ]
  },
  {
   "cell_type": "code",
   "execution_count": 1,
   "metadata": {},
   "outputs": [
    {
     "name": "stderr",
     "output_type": "stream",
     "text": [
      "Using TensorFlow backend.\n",
      "C:\\Users\\nagarc1\\AppData\\Local\\Continuum\\anaconda3\\lib\\site-packages\\tensorflow\\python\\framework\\dtypes.py:526: FutureWarning: Passing (type, 1) or '1type' as a synonym of type is deprecated; in a future version of numpy, it will be understood as (type, (1,)) / '(1,)type'.\n",
      "  _np_qint8 = np.dtype([(\"qint8\", np.int8, 1)])\n",
      "C:\\Users\\nagarc1\\AppData\\Local\\Continuum\\anaconda3\\lib\\site-packages\\tensorflow\\python\\framework\\dtypes.py:527: FutureWarning: Passing (type, 1) or '1type' as a synonym of type is deprecated; in a future version of numpy, it will be understood as (type, (1,)) / '(1,)type'.\n",
      "  _np_quint8 = np.dtype([(\"quint8\", np.uint8, 1)])\n",
      "C:\\Users\\nagarc1\\AppData\\Local\\Continuum\\anaconda3\\lib\\site-packages\\tensorflow\\python\\framework\\dtypes.py:528: FutureWarning: Passing (type, 1) or '1type' as a synonym of type is deprecated; in a future version of numpy, it will be understood as (type, (1,)) / '(1,)type'.\n",
      "  _np_qint16 = np.dtype([(\"qint16\", np.int16, 1)])\n",
      "C:\\Users\\nagarc1\\AppData\\Local\\Continuum\\anaconda3\\lib\\site-packages\\tensorflow\\python\\framework\\dtypes.py:529: FutureWarning: Passing (type, 1) or '1type' as a synonym of type is deprecated; in a future version of numpy, it will be understood as (type, (1,)) / '(1,)type'.\n",
      "  _np_quint16 = np.dtype([(\"quint16\", np.uint16, 1)])\n",
      "C:\\Users\\nagarc1\\AppData\\Local\\Continuum\\anaconda3\\lib\\site-packages\\tensorflow\\python\\framework\\dtypes.py:530: FutureWarning: Passing (type, 1) or '1type' as a synonym of type is deprecated; in a future version of numpy, it will be understood as (type, (1,)) / '(1,)type'.\n",
      "  _np_qint32 = np.dtype([(\"qint32\", np.int32, 1)])\n",
      "C:\\Users\\nagarc1\\AppData\\Local\\Continuum\\anaconda3\\lib\\site-packages\\tensorflow\\python\\framework\\dtypes.py:535: FutureWarning: Passing (type, 1) or '1type' as a synonym of type is deprecated; in a future version of numpy, it will be understood as (type, (1,)) / '(1,)type'.\n",
      "  np_resource = np.dtype([(\"resource\", np.ubyte, 1)])\n"
     ]
    }
   ],
   "source": [
    "# Importing the necessary libraries\n",
    "\n",
    "import pandas as pd\n",
    "import numpy as np\n",
    "\n",
    "import h5py\n",
    "\n",
    "import seaborn as sns\n",
    "import matplotlib.pyplot as plt\n",
    "\n",
    "from keras.models import Sequential\n",
    "from keras.utils.np_utils import to_categorical\n",
    "\n",
    "%matplotlib inline"
   ]
  },
  {
   "cell_type": "markdown",
   "metadata": {},
   "source": [
    "### Data fetching and understand the train/val/test splits "
   ]
  },
  {
   "cell_type": "code",
   "execution_count": 2,
   "metadata": {},
   "outputs": [],
   "source": [
    "# Reading the data file\n",
    "\n",
    "h5 = \"SVHN_single_grey1.h5\"\n",
    "\n",
    "data = h5py.File(h5,'r')"
   ]
  },
  {
   "cell_type": "code",
   "execution_count": 3,
   "metadata": {},
   "outputs": [
    {
     "data": {
      "text/plain": [
       "['X_test', 'X_train', 'X_val', 'y_test', 'y_train', 'y_val']"
      ]
     },
     "execution_count": 3,
     "metadata": {},
     "output_type": "execute_result"
    }
   ],
   "source": [
    "# Lists the contents of the data file\n",
    "\n",
    "list(data.keys())"
   ]
  },
  {
   "cell_type": "markdown",
   "metadata": {},
   "source": [
    "> X_train and y_train datasets are used to train the model                                                                     \n",
    "> X_val and y_val datasets are used the validate the model after hyperparameter tuning                                         \n",
    "> X_test and y_test dataset are used to evaluate the model "
   ]
  },
  {
   "cell_type": "code",
   "execution_count": 4,
   "metadata": {},
   "outputs": [],
   "source": [
    "# Extracting the Train, Test and Validation datasets\n",
    "\n",
    "X_test = data['X_test']\n",
    "X_train = data['X_train']\n",
    "X_val = data['X_val']\n",
    "y_test = data['y_test']\n",
    "y_train = data['y_train']\n",
    "y_val = data['y_val']"
   ]
  },
  {
   "cell_type": "code",
   "execution_count": 5,
   "metadata": {},
   "outputs": [],
   "source": [
    "# Converting Train, Test and Validation datasets into an array\n",
    "\n",
    "X_test = np.array(X_test)\n",
    "X_train = np.array(X_train)\n",
    "X_val = np.array(X_val)\n",
    "y_test = np.array(y_test)\n",
    "y_train = np.array(y_train)\n",
    "y_val = np.array(y_val)"
   ]
  },
  {
   "cell_type": "code",
   "execution_count": 6,
   "metadata": {},
   "outputs": [
    {
     "name": "stdout",
     "output_type": "stream",
     "text": [
      "(18000, 32, 32)\n",
      "(18000,)\n",
      "(42000, 32, 32)\n",
      "(42000,)\n",
      "(60000, 32, 32)\n",
      "(60000,)\n"
     ]
    }
   ],
   "source": [
    "# Checking the shape of each of the dataset\n",
    "\n",
    "print(X_test.shape) \n",
    "print(y_test.shape)\n",
    "\n",
    "print(X_train.shape) \n",
    "print(y_train.shape)\n",
    "\n",
    "print(X_val.shape)\n",
    "print(y_val.shape)"
   ]
  },
  {
   "cell_type": "code",
   "execution_count": 7,
   "metadata": {},
   "outputs": [
    {
     "data": {
      "image/png": "[encoded data removed]",
      "text/plain": [
       "<Figure size 720x576 with 1 Axes>"
      ]
     },
     "metadata": {
      "needs_background": "light"
     },
     "output_type": "display_data"
    },
    {
     "data": {
      "image/png": "[encoded data removed]",
      "text/plain": [
       "<Figure size 432x288 with 1 Axes>"
      ]
     },
     "metadata": {
      "needs_background": "light"
     },
     "output_type": "display_data"
    },
    {
     "data": {
      "image/png": "[encoded data removed]",
      "text/plain": [
       "<Figure size 432x288 with 1 Axes>"
      ]
     },
     "metadata": {
      "needs_background": "light"
     },
     "output_type": "display_data"
    },
    {
     "data": {
      "image/png": "[encoded data removed]",
      "text/plain": [
       "<Figure size 432x288 with 1 Axes>"
      ]
     },
     "metadata": {
      "needs_background": "light"
     },
     "output_type": "display_data"
    },
    {
     "data": {
      "image/png": "[encoded data removed]",
      "text/plain": [
       "<Figure size 432x288 with 1 Axes>"
      ]
     },
     "metadata": {
      "needs_background": "light"
     },
     "output_type": "display_data"
    },
    {
     "data": {
      "image/png": "[encoded data removed]",
      "text/plain": [
       "<Figure size 432x288 with 1 Axes>"
      ]
     },
     "metadata": {
      "needs_background": "light"
     },
     "output_type": "display_data"
    },
    {
     "data": {
      "image/png": "[encoded data removed]",
      "text/plain": [
       "<Figure size 432x288 with 1 Axes>"
      ]
     },
     "metadata": {
      "needs_background": "light"
     },
     "output_type": "display_data"
    },
    {
     "data": {
      "image/png": "[encoded data removed]",
      "text/plain": [
       "<Figure size 432x288 with 1 Axes>"
      ]
     },
     "metadata": {
      "needs_background": "light"
     },
     "output_type": "display_data"
    },
    {
     "data": {
      "image/png": "[encoded data removed]",
      "text/plain": [
       "<Figure size 432x288 with 1 Axes>"
      ]
     },
     "metadata": {
      "needs_background": "light"
     },
     "output_type": "display_data"
    },
    {
     "data": {
      "image/png": "[encoded data removed]",
      "text/plain": [
       "<Figure size 720x576 with 1 Axes>"
      ]
     },
     "metadata": {
      "needs_background": "light"
     },
     "output_type": "display_data"
    }
   ],
   "source": [
    "# Checking the digit as index position 21 of the train \n",
    "\n",
    "plt.figure(figsize=(10,8))\n",
    "\n",
    "plt.subplot(3,3,1)\n",
    "plt.imshow(X_train[1])\n",
    "plt.show()\n",
    "\n",
    "plt.subplot(3,3,2)\n",
    "plt.imshow(X_train[2])\n",
    "plt.show()\n",
    "\n",
    "plt.subplot(3,3,3)\n",
    "plt.imshow(X_train[3])\n",
    "plt.show()\n",
    "\n",
    "plt.subplot(3,3,4)\n",
    "plt.imshow(X_train[4])\n",
    "plt.show()\n",
    "\n",
    "plt.subplot(3,3,5)\n",
    "plt.imshow(X_train[5])\n",
    "plt.show()\n",
    "\n",
    "plt.subplot(3,3,6)\n",
    "plt.imshow(X_train[6])\n",
    "plt.show()\n",
    "\n",
    "plt.subplot(3,3,7)\n",
    "plt.imshow(X_train[7])\n",
    "plt.show()\n",
    "\n",
    "plt.subplot(3,3,8)\n",
    "plt.imshow(X_train[8])\n",
    "plt.show()\n",
    "\n",
    "plt.subplot(3,3,9)\n",
    "plt.imshow(X_train[9])\n",
    "plt.show()\n",
    "\n",
    "plt.figure(figsize=(10,8))\n",
    "plt.subplot(3,3,1)\n",
    "plt.imshow(X_train[10])\n",
    "plt.show()"
   ]
  },
  {
   "cell_type": "code",
   "execution_count": 8,
   "metadata": {},
   "outputs": [
    {
     "data": {
      "image/png": "[encoded data removed]",
      "text/plain": [
       "<Figure size 720x576 with 3 Axes>"
      ]
     },
     "metadata": {
      "needs_background": "light"
     },
     "output_type": "display_data"
    }
   ],
   "source": [
    "# Classifying the data points as per output class\n",
    "\n",
    "plt.figure(figsize=(10,8))\n",
    "plt.subplot(2,2,1)\n",
    "sns.countplot(np.array(data['y_test']))\n",
    "plt.subplot(2,2,2)\n",
    "sns.countplot(np.array(data['y_train']))\n",
    "plt.subplot(2,2,3)\n",
    "sns.countplot(np.array(data['y_val']))\n",
    "\n",
    "plt.show()"
   ]
  },
  {
   "cell_type": "code",
   "execution_count": 9,
   "metadata": {},
   "outputs": [],
   "source": [
    "# Flattening the images to 1D 1024 pixels\n",
    "\n",
    "X_train = X_train.reshape(42000, 1024)\n",
    "X_test = X_test.reshape(18000, 1024)\n",
    "X_val = X_val.reshape(60000, 1024)"
   ]
  },
  {
   "cell_type": "code",
   "execution_count": 10,
   "metadata": {},
   "outputs": [],
   "source": [
    "# Normalizing the data to help with the training\n",
    "\n",
    "X_train /= 255\n",
    "X_test /= 255\n",
    "X_val /= 255"
   ]
  },
  {
   "cell_type": "code",
   "execution_count": 11,
   "metadata": {},
   "outputs": [],
   "source": [
    "# one-hot encoding using keras  \n",
    "\n",
    "y_train = to_categorical(y_train, num_classes=10)\n",
    "y_test = to_categorical(y_test, num_classes=10)\n",
    "y_val = to_categorical(y_val, num_classes=10)"
   ]
  },
  {
   "cell_type": "code",
   "execution_count": 12,
   "metadata": {},
   "outputs": [
    {
     "name": "stdout",
     "output_type": "stream",
     "text": [
      "(42000, 1024)\n",
      "(18000, 1024)\n",
      "(60000, 1024)\n",
      "(42000, 10)\n",
      "(18000, 10)\n",
      "(60000, 10)\n"
     ]
    }
   ],
   "source": [
    "# Checking the shape of the datasets to reflect 1024 image pixel\n",
    "\n",
    "print(X_train.shape)\n",
    "print(X_test.shape)\n",
    "print(X_val.shape)\n",
    "print(y_train.shape)\n",
    "print(y_test.shape)\n",
    "print(y_val.shape)"
   ]
  },
  {
   "cell_type": "markdown",
   "metadata": {},
   "source": [
    "### Implement and apply a deep neural network classifier including (feedforward neural network, RELU, activations) along with backpropagation (cost stochastic gradient descent, cross entropy loss, cost functions)"
   ]
  },
  {
   "cell_type": "markdown",
   "metadata": {},
   "source": [
    "### Basic NN Model"
   ]
  },
  {
   "cell_type": "code",
   "execution_count": 13,
   "metadata": {},
   "outputs": [],
   "source": [
    "# Importing the necessary libraries\n",
    "\n",
    "from keras.models import Sequential\n",
    "from keras.layers import Activation, Dense\n",
    "from keras import optimizers\n",
    "from keras.layers import Flatten"
   ]
  },
  {
   "cell_type": "code",
   "execution_count": 39,
   "metadata": {},
   "outputs": [],
   "source": [
    "#Creating a function for sequential model one input layer, 3 hidden layer and one output layer\n",
    "\n",
    "def nn_model():\n",
    "    model = Sequential()\n",
    "    \n",
    "    model.add(Dense(40, input_shape = (1024, )))\n",
    "    model.add(Activation('relu'))\n",
    "    model.add(Dense(40))\n",
    "    model.add(Activation('relu'))\n",
    "    model.add(Dense(40))\n",
    "    model.add(Activation('relu'))\n",
    "    model.add(Dense(40))\n",
    "    model.add(Activation('relu'))\n",
    "    model.add(Dense(10))\n",
    "    model.add(Activation('softmax'))\n",
    "\n",
    "    sgd = optimizers.SGD(lr = 0.001)\n",
    "    model.compile(optimizer = sgd, loss='categorical_crossentropy', metrics=['accuracy'])\n",
    "    model.summary()\n",
    "    \n",
    "    return model "
   ]
  },
  {
   "cell_type": "code",
   "execution_count": 40,
   "metadata": {},
   "outputs": [
    {
     "name": "stdout",
     "output_type": "stream",
     "text": [
      "_________________________________________________________________\n",
      "Layer (type)                 Output Shape              Param #   \n",
      "=================================================================\n",
      "dense_28 (Dense)             (None, 40)                41000     \n",
      "_________________________________________________________________\n",
      "activation_28 (Activation)   (None, 40)                0         \n",
      "_________________________________________________________________\n",
      "dense_29 (Dense)             (None, 40)                1640      \n",
      "_________________________________________________________________\n",
      "activation_29 (Activation)   (None, 40)                0         \n",
      "_________________________________________________________________\n",
      "dense_30 (Dense)             (None, 40)                1640      \n",
      "_________________________________________________________________\n",
      "activation_30 (Activation)   (None, 40)                0         \n",
      "_________________________________________________________________\n",
      "dense_31 (Dense)             (None, 40)                1640      \n",
      "_________________________________________________________________\n",
      "activation_31 (Activation)   (None, 40)                0         \n",
      "_________________________________________________________________\n",
      "dense_32 (Dense)             (None, 10)                410       \n",
      "_________________________________________________________________\n",
      "activation_32 (Activation)   (None, 10)                0         \n",
      "=================================================================\n",
      "Total params: 46,330\n",
      "Trainable params: 46,330\n",
      "Non-trainable params: 0\n",
      "_________________________________________________________________\n",
      "Train on 42000 samples, validate on 60000 samples\n",
      "Epoch 1/20\n",
      "42000/42000 [==============================] - 4s 85us/step - loss: 2.3037 - acc: 0.1074 - val_loss: 2.3012 - val_acc: 0.1157\n",
      "Epoch 2/20\n",
      "42000/42000 [==============================] - 3s 63us/step - loss: 2.3001 - acc: 0.1220 - val_loss: 2.2992 - val_acc: 0.1324\n",
      "Epoch 3/20\n",
      "42000/42000 [==============================] - 3s 79us/step - loss: 2.2980 - acc: 0.1362 - val_loss: 2.2969 - val_acc: 0.1417\n",
      "Epoch 4/20\n",
      "42000/42000 [==============================] - 3s 67us/step - loss: 2.2956 - acc: 0.1450 - val_loss: 2.2944 - val_acc: 0.1500\n",
      "Epoch 5/20\n",
      "42000/42000 [==============================] - 3s 62us/step - loss: 2.2930 - acc: 0.1539 - val_loss: 2.2916 - val_acc: 0.1563\n",
      "Epoch 6/20\n",
      "42000/42000 [==============================] - 3s 64us/step - loss: 2.2898 - acc: 0.1632 - val_loss: 2.2879 - val_acc: 0.1671\n",
      "Epoch 7/20\n",
      "42000/42000 [==============================] - 3s 64us/step - loss: 2.2858 - acc: 0.1693 - val_loss: 2.2835 - val_acc: 0.1776\n",
      "Epoch 8/20\n",
      "42000/42000 [==============================] - 3s 62us/step - loss: 2.2809 - acc: 0.1779 - val_loss: 2.2779 - val_acc: 0.1897\n",
      "Epoch 9/20\n",
      "42000/42000 [==============================] - 3s 63us/step - loss: 2.2742 - acc: 0.1908 - val_loss: 2.2706 - val_acc: 0.1966\n",
      "Epoch 10/20\n",
      "42000/42000 [==============================] - 3s 62us/step - loss: 2.2656 - acc: 0.2058 - val_loss: 2.2606 - val_acc: 0.2068\n",
      "Epoch 11/20\n",
      "42000/42000 [==============================] - 3s 61us/step - loss: 2.2544 - acc: 0.2202 - val_loss: 2.2478 - val_acc: 0.2261\n",
      "Epoch 12/20\n",
      "42000/42000 [==============================] - 3s 62us/step - loss: 2.2393 - acc: 0.2355 - val_loss: 2.2301 - val_acc: 0.2402\n",
      "Epoch 13/20\n",
      "42000/42000 [==============================] - 3s 62us/step - loss: 2.2188 - acc: 0.2475 - val_loss: 2.2067 - val_acc: 0.2524\n",
      "Epoch 14/20\n",
      "42000/42000 [==============================] - 3s 71us/step - loss: 2.1910 - acc: 0.2555 - val_loss: 2.1737 - val_acc: 0.2569\n",
      "Epoch 15/20\n",
      "42000/42000 [==============================] - 3s 67us/step - loss: 2.1541 - acc: 0.2559 - val_loss: 2.1322 - val_acc: 0.2657\n",
      "Epoch 16/20\n",
      "42000/42000 [==============================] - 3s 65us/step - loss: 2.1097 - acc: 0.2651 - val_loss: 2.0851 - val_acc: 0.2694\n",
      "Epoch 17/20\n",
      "42000/42000 [==============================] - 3s 62us/step - loss: 2.0618 - acc: 0.2760 - val_loss: 2.0375 - val_acc: 0.2786\n",
      "Epoch 18/20\n",
      "42000/42000 [==============================] - 3s 66us/step - loss: 2.0141 - acc: 0.2883 - val_loss: 1.9897 - val_acc: 0.3008\n",
      "Epoch 19/20\n",
      "42000/42000 [==============================] - 3s 64us/step - loss: 1.9684 - acc: 0.3063 - val_loss: 1.9444 - val_acc: 0.3128\n",
      "Epoch 20/20\n",
      "42000/42000 [==============================] - 3s 66us/step - loss: 1.9245 - acc: 0.3199 - val_loss: 1.9080 - val_acc: 0.3222\n"
     ]
    }
   ],
   "source": [
    "# Fitting the X_train and y_train to the model and using validation dataset to validate the model\n",
    "\n",
    "model = nn_model()\n",
    "history = model.fit(X_train, y_train, epochs=20, verbose = 1, validation_data=(X_val, y_val))"
   ]
  },
  {
   "cell_type": "code",
   "execution_count": 41,
   "metadata": {},
   "outputs": [
    {
     "name": "stdout",
     "output_type": "stream",
     "text": [
      "18000/18000 [==============================] - 0s 22us/step\n"
     ]
    }
   ],
   "source": [
    "results = model.evaluate(X_test, y_test)"
   ]
  },
  {
   "cell_type": "code",
   "execution_count": 42,
   "metadata": {},
   "outputs": [
    {
     "name": "stdout",
     "output_type": "stream",
     "text": [
      "Test accuracy:  0.32372222222222224\n"
     ]
    }
   ],
   "source": [
    "print('Test accuracy: ', results[1])"
   ]
  },
  {
   "cell_type": "markdown",
   "metadata": {},
   "source": [
    "> With he bsaic neural network model the result is **32% accuracy**. let's try initialize weigths to the model and check the results"
   ]
  },
  {
   "cell_type": "markdown",
   "metadata": {},
   "source": [
    "### Weight Initialization"
   ]
  },
  {
   "cell_type": "markdown",
   "metadata": {},
   "source": [
    "**What is he_normal:** It draws samples from a truncated normal distribution centered on 0 with **stddev = sqrt(2 / fan_in)** where **fan_in** is the number of inputs units in the weight tensor"
   ]
  },
  {
   "cell_type": "code",
   "execution_count": 43,
   "metadata": {},
   "outputs": [],
   "source": [
    "# Initializing weights to the model with 'he_normal'. Model includes one input layer, 3 hidden layer and one output layer\n",
    "\n",
    "def mlp_model():\n",
    "    model = Sequential()\n",
    "    \n",
    "    model.add(Dense(40, input_shape = (1024, ), kernel_initializer='he_normal'))     # use he_normal initializer\n",
    "    model.add(Activation('relu'))    \n",
    "    model.add(Dense(40, kernel_initializer='he_normal'))                            # use he_normal initializer\n",
    "    model.add(Activation('relu'))    \n",
    "    model.add(Dense(40, kernel_initializer='he_normal'))                            # use he_normal initializer\n",
    "    model.add(Activation('relu'))    \n",
    "    model.add(Dense(40, kernel_initializer='he_normal'))                            # use he_normal initializer\n",
    "    model.add(Activation('relu'))    \n",
    "    model.add(Dense(10, kernel_initializer='he_normal'))                            # use he_normal initializer\n",
    "    model.add(Activation('relu'))\n",
    "    \n",
    "    sgd = optimizers.SGD(lr = 0.001)\n",
    "    model.compile(optimizer = sgd, loss = 'categorical_crossentropy', metrics = ['accuracy'])\n",
    "    model.summary()\n",
    "    \n",
    "    return model"
   ]
  },
  {
   "cell_type": "code",
   "execution_count": 44,
   "metadata": {},
   "outputs": [
    {
     "name": "stdout",
     "output_type": "stream",
     "text": [
      "_________________________________________________________________\n",
      "Layer (type)                 Output Shape              Param #   \n",
      "=================================================================\n",
      "dense_33 (Dense)             (None, 40)                41000     \n",
      "_________________________________________________________________\n",
      "activation_33 (Activation)   (None, 40)                0         \n",
      "_________________________________________________________________\n",
      "dense_34 (Dense)             (None, 40)                1640      \n",
      "_________________________________________________________________\n",
      "activation_34 (Activation)   (None, 40)                0         \n",
      "_________________________________________________________________\n",
      "dense_35 (Dense)             (None, 40)                1640      \n",
      "_________________________________________________________________\n",
      "activation_35 (Activation)   (None, 40)                0         \n",
      "_________________________________________________________________\n",
      "dense_36 (Dense)             (None, 40)                1640      \n",
      "_________________________________________________________________\n",
      "activation_36 (Activation)   (None, 40)                0         \n",
      "_________________________________________________________________\n",
      "dense_37 (Dense)             (None, 10)                410       \n",
      "_________________________________________________________________\n",
      "activation_37 (Activation)   (None, 10)                0         \n",
      "=================================================================\n",
      "Total params: 46,330\n",
      "Trainable params: 46,330\n",
      "Non-trainable params: 0\n",
      "_________________________________________________________________\n",
      "Train on 42000 samples, validate on 60000 samples\n",
      "Epoch 1/20\n",
      "42000/42000 [==============================] - 2s 40us/step - loss: 4.9192 - acc: 0.0981 - val_loss: 4.8895 - val_acc: 0.0966\n",
      "Epoch 2/20\n",
      "42000/42000 [==============================] - 1s 20us/step - loss: 4.8736 - acc: 0.1017 - val_loss: 4.8815 - val_acc: 0.1083\n",
      "Epoch 3/20\n",
      "42000/42000 [==============================] - 1s 18us/step - loss: 4.8670 - acc: 0.1124 - val_loss: 4.8771 - val_acc: 0.1181\n",
      "Epoch 4/20\n",
      "42000/42000 [==============================] - 1s 18us/step - loss: 4.8633 - acc: 0.1197 - val_loss: 4.8742 - val_acc: 0.1219\n",
      "Epoch 5/20\n",
      "42000/42000 [==============================] - 1s 18us/step - loss: 4.8604 - acc: 0.1220 - val_loss: 4.8710 - val_acc: 0.1268\n",
      "Epoch 6/20\n",
      "42000/42000 [==============================] - 1s 18us/step - loss: 4.8566 - acc: 0.1265 - val_loss: 4.8667 - val_acc: 0.1247\n",
      "Epoch 7/20\n",
      "42000/42000 [==============================] - 1s 18us/step - loss: 4.8544 - acc: 0.1270 - val_loss: 4.8665 - val_acc: 0.1334\n",
      "Epoch 8/20\n",
      "42000/42000 [==============================] - 1s 18us/step - loss: 4.8501 - acc: 0.1342 - val_loss: 4.8593 - val_acc: 0.1388\n",
      "Epoch 9/20\n",
      "42000/42000 [==============================] - 1s 18us/step - loss: 4.8430 - acc: 0.1392 - val_loss: 4.8504 - val_acc: 0.1373\n",
      "Epoch 10/20\n",
      "42000/42000 [==============================] - 1s 18us/step - loss: 4.8205 - acc: 0.1296 - val_loss: 6.2215 - val_acc: 0.1000\n",
      "Epoch 11/20\n",
      "42000/42000 [==============================] - 1s 18us/step - loss: 6.1844 - acc: 0.0998 - val_loss: 6.1995 - val_acc: 0.1013\n",
      "Epoch 12/20\n",
      "42000/42000 [==============================] - 1s 18us/step - loss: 6.1767 - acc: 0.1042 - val_loss: 6.1974 - val_acc: 0.1108\n",
      "Epoch 13/20\n",
      "42000/42000 [==============================] - 1s 18us/step - loss: 6.1756 - acc: 0.1099 - val_loss: 6.1971 - val_acc: 0.1108\n",
      "Epoch 14/20\n",
      "42000/42000 [==============================] - 1s 18us/step - loss: 6.1754 - acc: 0.1106 - val_loss: 6.1970 - val_acc: 0.1042\n",
      "Epoch 15/20\n",
      "42000/42000 [==============================] - 1s 19us/step - loss: 6.1754 - acc: 0.1057 - val_loss: 6.1970 - val_acc: 0.1007\n",
      "Epoch 16/20\n",
      "42000/42000 [==============================] - 1s 18us/step - loss: 6.1753 - acc: 0.1011 - val_loss: 6.1969 - val_acc: 0.0987\n",
      "Epoch 17/20\n",
      "42000/42000 [==============================] - 1s 18us/step - loss: 6.1753 - acc: 0.1025 - val_loss: 6.1969 - val_acc: 0.0993\n",
      "Epoch 18/20\n",
      "42000/42000 [==============================] - 1s 18us/step - loss: 6.1753 - acc: 0.1016 - val_loss: 6.1969 - val_acc: 0.0994\n",
      "Epoch 19/20\n",
      "42000/42000 [==============================] - 1s 18us/step - loss: 6.1753 - acc: 0.1015 - val_loss: 6.1969 - val_acc: 0.0992\n",
      "Epoch 20/20\n",
      "42000/42000 [==============================] - 1s 19us/step - loss: 6.1753 - acc: 0.1000 - val_loss: 6.1969 - val_acc: 0.0998\n"
     ]
    }
   ],
   "source": [
    "model = mlp_model()\n",
    "history = model.fit(X_train, y_train, batch_size=200, epochs = 20, verbose = 1, validation_data=(X_val, y_val))"
   ]
  },
  {
   "cell_type": "code",
   "execution_count": 45,
   "metadata": {},
   "outputs": [
    {
     "name": "stdout",
     "output_type": "stream",
     "text": [
      "18000/18000 [==============================] - 0s 21us/step\n"
     ]
    }
   ],
   "source": [
    "results = model.evaluate(X_test, y_test)"
   ]
  },
  {
   "cell_type": "code",
   "execution_count": 46,
   "metadata": {},
   "outputs": [
    {
     "name": "stdout",
     "output_type": "stream",
     "text": [
      "Test accuracy:  0.09405555555555556\n"
     ]
    }
   ],
   "source": [
    "print('Test accuracy: ', results[1])"
   ]
  },
  {
   "cell_type": "markdown",
   "metadata": {},
   "source": [
    "> The model with weight initializers had drastically reduced to 9.4% which is very low. Now we train the model with batch normalization technique that standardizes the inputs to a layer for each mini-batch"
   ]
  },
  {
   "cell_type": "markdown",
   "metadata": {},
   "source": [
    "### Implement batch normalization for training the neural network"
   ]
  },
  {
   "cell_type": "code",
   "execution_count": 47,
   "metadata": {},
   "outputs": [],
   "source": [
    "# Importing Batch Normalization from keras.layers.  \n",
    "\n",
    "from keras.layers import BatchNormalization"
   ]
  },
  {
   "cell_type": "code",
   "execution_count": 48,
   "metadata": {},
   "outputs": [],
   "source": [
    "def mlp_model():\n",
    "    model = Sequential()\n",
    "    \n",
    "    model.add(Dense(40, input_shape = (1024, )))\n",
    "    model.add(BatchNormalization())                    \n",
    "    model.add(Activation('relu'))    \n",
    "    model.add(Dense(40))\n",
    "    model.add(BatchNormalization())                    \n",
    "    model.add(Activation('relu'))    \n",
    "    model.add(Dense(40))\n",
    "    model.add(BatchNormalization())                    \n",
    "    model.add(Activation('relu'))    \n",
    "    model.add(Dense(40))\n",
    "    model.add(BatchNormalization())                    \n",
    "    model.add(Activation('relu'))    \n",
    "    model.add(Dense(10))\n",
    "    model.add(Activation('softmax'))\n",
    "    \n",
    "    sgd = optimizers.SGD(lr = 0.001)\n",
    "    model.compile(optimizer = sgd, loss = 'categorical_crossentropy', metrics = ['accuracy'])\n",
    "    model.summary()\n",
    "    \n",
    "    return model"
   ]
  },
  {
   "cell_type": "code",
   "execution_count": 49,
   "metadata": {},
   "outputs": [
    {
     "name": "stdout",
     "output_type": "stream",
     "text": [
      "_________________________________________________________________\n",
      "Layer (type)                 Output Shape              Param #   \n",
      "=================================================================\n",
      "dense_38 (Dense)             (None, 40)                41000     \n",
      "_________________________________________________________________\n",
      "batch_normalization_14 (Batc (None, 40)                160       \n",
      "_________________________________________________________________\n",
      "activation_38 (Activation)   (None, 40)                0         \n",
      "_________________________________________________________________\n",
      "dense_39 (Dense)             (None, 40)                1640      \n",
      "_________________________________________________________________\n",
      "batch_normalization_15 (Batc (None, 40)                160       \n",
      "_________________________________________________________________\n",
      "activation_39 (Activation)   (None, 40)                0         \n",
      "_________________________________________________________________\n",
      "dense_40 (Dense)             (None, 40)                1640      \n",
      "_________________________________________________________________\n",
      "batch_normalization_16 (Batc (None, 40)                160       \n",
      "_________________________________________________________________\n",
      "activation_40 (Activation)   (None, 40)                0         \n",
      "_________________________________________________________________\n",
      "dense_41 (Dense)             (None, 40)                1640      \n",
      "_________________________________________________________________\n",
      "batch_normalization_17 (Batc (None, 40)                160       \n",
      "_________________________________________________________________\n",
      "activation_41 (Activation)   (None, 40)                0         \n",
      "_________________________________________________________________\n",
      "dense_42 (Dense)             (None, 10)                410       \n",
      "_________________________________________________________________\n",
      "activation_42 (Activation)   (None, 10)                0         \n",
      "=================================================================\n",
      "Total params: 46,970\n",
      "Trainable params: 46,650\n",
      "Non-trainable params: 320\n",
      "_________________________________________________________________\n",
      "Train on 42000 samples, validate on 60000 samples\n",
      "Epoch 1/20\n",
      "42000/42000 [==============================] - 3s 63us/step - loss: 2.5421 - acc: 0.1152 - val_loss: 2.5141 - val_acc: 0.1200\n",
      "Epoch 2/20\n",
      "42000/42000 [==============================] - 1s 27us/step - loss: 2.4360 - acc: 0.1315 - val_loss: 2.4189 - val_acc: 0.1375\n",
      "Epoch 3/20\n",
      "42000/42000 [==============================] - 1s 27us/step - loss: 2.3679 - acc: 0.1453 - val_loss: 2.3533 - val_acc: 0.1545\n",
      "Epoch 4/20\n",
      "42000/42000 [==============================] - 1s 27us/step - loss: 2.3154 - acc: 0.1627 - val_loss: 2.2967 - val_acc: 0.1701\n",
      "Epoch 5/20\n",
      "42000/42000 [==============================] - 1s 27us/step - loss: 2.2676 - acc: 0.1775 - val_loss: 2.2536 - val_acc: 0.1866\n",
      "Epoch 6/20\n",
      "42000/42000 [==============================] - 1s 27us/step - loss: 2.2265 - acc: 0.1937 - val_loss: 2.2109 - val_acc: 0.2020\n",
      "Epoch 7/20\n",
      "42000/42000 [==============================] - 1s 27us/step - loss: 2.1872 - acc: 0.2127 - val_loss: 2.1721 - val_acc: 0.2167\n",
      "Epoch 8/20\n",
      "42000/42000 [==============================] - 1s 27us/step - loss: 2.1527 - acc: 0.2265 - val_loss: 2.1450 - val_acc: 0.2283\n",
      "Epoch 9/20\n",
      "42000/42000 [==============================] - 1s 27us/step - loss: 2.1170 - acc: 0.2419 - val_loss: 2.1031 - val_acc: 0.2485\n",
      "Epoch 10/20\n",
      "42000/42000 [==============================] - 1s 28us/step - loss: 2.0854 - acc: 0.2554 - val_loss: 2.0691 - val_acc: 0.2615\n",
      "Epoch 11/20\n",
      "42000/42000 [==============================] - 1s 28us/step - loss: 2.0537 - acc: 0.2698 - val_loss: 2.0359 - val_acc: 0.2776\n",
      "Epoch 12/20\n",
      "42000/42000 [==============================] - 1s 26us/step - loss: 2.0237 - acc: 0.2845 - val_loss: 2.0051 - val_acc: 0.2954\n",
      "Epoch 13/20\n",
      "42000/42000 [==============================] - 1s 27us/step - loss: 1.9945 - acc: 0.3008 - val_loss: 1.9812 - val_acc: 0.3052\n",
      "Epoch 14/20\n",
      "42000/42000 [==============================] - 1s 26us/step - loss: 1.9644 - acc: 0.3126 - val_loss: 1.9461 - val_acc: 0.3224\n",
      "Epoch 15/20\n",
      "42000/42000 [==============================] - 1s 27us/step - loss: 1.9359 - acc: 0.3291 - val_loss: 1.9118 - val_acc: 0.3396\n",
      "Epoch 16/20\n",
      "42000/42000 [==============================] - 1s 26us/step - loss: 1.9070 - acc: 0.3415 - val_loss: 1.8877 - val_acc: 0.3554\n",
      "Epoch 17/20\n",
      "42000/42000 [==============================] - 1s 27us/step - loss: 1.8782 - acc: 0.3578 - val_loss: 1.8627 - val_acc: 0.3670\n",
      "Epoch 18/20\n",
      "42000/42000 [==============================] - 1s 27us/step - loss: 1.8519 - acc: 0.3697 - val_loss: 1.8428 - val_acc: 0.3748\n",
      "Epoch 19/20\n",
      "42000/42000 [==============================] - 1s 26us/step - loss: 1.8239 - acc: 0.3832 - val_loss: 1.8199 - val_acc: 0.3863\n",
      "Epoch 20/20\n",
      "42000/42000 [==============================] - 1s 27us/step - loss: 1.7967 - acc: 0.3966 - val_loss: 1.7789 - val_acc: 0.4071\n"
     ]
    }
   ],
   "source": [
    "model = mlp_model()\n",
    "history = model.fit(X_train, y_train, batch_size=200, epochs = 20, verbose = 1, validation_data=(X_val, y_val))"
   ]
  },
  {
   "cell_type": "code",
   "execution_count": 50,
   "metadata": {},
   "outputs": [
    {
     "name": "stdout",
     "output_type": "stream",
     "text": [
      "18000/18000 [==============================] - 0s 24us/step\n"
     ]
    }
   ],
   "source": [
    "results = model.evaluate(X_test, y_test)"
   ]
  },
  {
   "cell_type": "code",
   "execution_count": 51,
   "metadata": {},
   "outputs": [
    {
     "name": "stdout",
     "output_type": "stream",
     "text": [
      "Test accuracy:  0.40155555555555555\n"
     ]
    }
   ],
   "source": [
    "print('Test accuracy: ', results[1])"
   ]
  },
  {
   "cell_type": "markdown",
   "metadata": {},
   "source": [
    "> Model yeilds better results with **40% accuracy**"
   ]
  },
  {
   "cell_type": "markdown",
   "metadata": {},
   "source": [
    "### Dropout"
   ]
  },
  {
   "cell_type": "markdown",
   "metadata": {},
   "source": [
    "Since the results all the earlier model is not as expected, let's try Dropout method. \n",
    "\n",
    "**Dropout:** It is a technique used to prevent a model from overfitting. Dropout works by randomly setting the outgoing edges of the hidden units to 0 at each update of the training phase"
   ]
  },
  {
   "cell_type": "code",
   "execution_count": 52,
   "metadata": {},
   "outputs": [],
   "source": [
    "# Importing Dropout libray from keras.layers\n",
    "\n",
    "from keras.layers import Dropout\n",
    "\n",
    "def mlp_model():\n",
    "    model = Sequential()\n",
    "    \n",
    "    model.add(Dense(40, input_shape = (1024, ), kernel_initializer='he_normal'))\n",
    "    model.add(BatchNormalization())\n",
    "    model.add(Activation('relu'))\n",
    "    model.add(Dropout(0.2))\n",
    "    model.add(Dense(40, kernel_initializer='he_normal'))\n",
    "    model.add(BatchNormalization())\n",
    "    model.add(Activation('relu'))    \n",
    "    model.add(Dropout(0.2))\n",
    "    model.add(Dense(40, kernel_initializer='he_normal'))\n",
    "    model.add(BatchNormalization())\n",
    "    model.add(Activation('relu'))\n",
    "    model.add(Dropout(0.2))\n",
    "    model.add(Dense(40, kernel_initializer='he_normal'))\n",
    "    model.add(BatchNormalization())\n",
    "    model.add(Activation('relu'))\n",
    "    model.add(Dropout(0.2))\n",
    "    model.add(Dense(10, kernel_initializer='he_normal'))\n",
    "    model.add(Activation('softmax'))\n",
    "    \n",
    "    adam = optimizers.Adam(lr = 0.001)\n",
    "    model.compile(optimizer = adam, loss = 'categorical_crossentropy', metrics = ['accuracy'])\n",
    "    model.summary()\n",
    "    \n",
    "    return model"
   ]
  },
  {
   "cell_type": "code",
   "execution_count": 53,
   "metadata": {},
   "outputs": [
    {
     "name": "stdout",
     "output_type": "stream",
     "text": [
      "_________________________________________________________________\n",
      "Layer (type)                 Output Shape              Param #   \n",
      "=================================================================\n",
      "dense_43 (Dense)             (None, 40)                41000     \n",
      "_________________________________________________________________\n",
      "batch_normalization_18 (Batc (None, 40)                160       \n",
      "_________________________________________________________________\n",
      "activation_43 (Activation)   (None, 40)                0         \n",
      "_________________________________________________________________\n",
      "dropout_10 (Dropout)         (None, 40)                0         \n",
      "_________________________________________________________________\n",
      "dense_44 (Dense)             (None, 40)                1640      \n",
      "_________________________________________________________________\n",
      "batch_normalization_19 (Batc (None, 40)                160       \n",
      "_________________________________________________________________\n",
      "activation_44 (Activation)   (None, 40)                0         \n",
      "_________________________________________________________________\n",
      "dropout_11 (Dropout)         (None, 40)                0         \n",
      "_________________________________________________________________\n",
      "dense_45 (Dense)             (None, 40)                1640      \n",
      "_________________________________________________________________\n",
      "batch_normalization_20 (Batc (None, 40)                160       \n",
      "_________________________________________________________________\n",
      "activation_45 (Activation)   (None, 40)                0         \n",
      "_________________________________________________________________\n",
      "dropout_12 (Dropout)         (None, 40)                0         \n",
      "_________________________________________________________________\n",
      "dense_46 (Dense)             (None, 40)                1640      \n",
      "_________________________________________________________________\n",
      "batch_normalization_21 (Batc (None, 40)                160       \n",
      "_________________________________________________________________\n",
      "activation_46 (Activation)   (None, 40)                0         \n",
      "_________________________________________________________________\n",
      "dropout_13 (Dropout)         (None, 40)                0         \n",
      "_________________________________________________________________\n",
      "dense_47 (Dense)             (None, 10)                410       \n",
      "_________________________________________________________________\n",
      "activation_47 (Activation)   (None, 10)                0         \n",
      "=================================================================\n",
      "Total params: 46,970\n",
      "Trainable params: 46,650\n",
      "Non-trainable params: 320\n",
      "_________________________________________________________________\n",
      "Train on 42000 samples, validate on 60000 samples\n",
      "Epoch 1/10\n",
      "42000/42000 [==============================] - 7s 158us/step - loss: 2.2580 - acc: 0.1644 - val_loss: 2.0131 - val_acc: 0.2687\n",
      "Epoch 2/10\n",
      "42000/42000 [==============================] - 5s 115us/step - loss: 1.8727 - acc: 0.3283 - val_loss: 1.6198 - val_acc: 0.4761\n",
      "Epoch 3/10\n",
      "42000/42000 [==============================] - 5s 118us/step - loss: 1.6950 - acc: 0.4073 - val_loss: 1.4546 - val_acc: 0.5317\n",
      "Epoch 4/10\n",
      "42000/42000 [==============================] - 5s 111us/step - loss: 1.6123 - acc: 0.4496 - val_loss: 1.3839 - val_acc: 0.5661\n",
      "Epoch 5/10\n",
      "42000/42000 [==============================] - 5s 112us/step - loss: 1.5575 - acc: 0.4724 - val_loss: 1.5868 - val_acc: 0.4537\n",
      "Epoch 6/10\n",
      "42000/42000 [==============================] - 5s 111us/step - loss: 1.5168 - acc: 0.4925 - val_loss: 1.4815 - val_acc: 0.5263\n",
      "Epoch 7/10\n",
      "42000/42000 [==============================] - 5s 111us/step - loss: 1.4889 - acc: 0.5063 - val_loss: 1.4125 - val_acc: 0.5176\n",
      "Epoch 8/10\n",
      "42000/42000 [==============================] - 5s 113us/step - loss: 1.4491 - acc: 0.5230 - val_loss: 1.2153 - val_acc: 0.6205\n",
      "Epoch 9/10\n",
      "42000/42000 [==============================] - 5s 113us/step - loss: 1.4141 - acc: 0.5381 - val_loss: 1.2804 - val_acc: 0.5843\n",
      "Epoch 10/10\n",
      "42000/42000 [==============================] - 5s 114us/step - loss: 1.3957 - acc: 0.5445 - val_loss: 1.1590 - val_acc: 0.6413\n"
     ]
    }
   ],
   "source": [
    "model = mlp_model()\n",
    "history = model.fit(X_train, y_train, epochs = 10, verbose = 1, validation_data=(X_val, y_val))"
   ]
  },
  {
   "cell_type": "code",
   "execution_count": 54,
   "metadata": {},
   "outputs": [
    {
     "name": "stdout",
     "output_type": "stream",
     "text": [
      "18000/18000 [==============================] - 1s 28us/step\n"
     ]
    }
   ],
   "source": [
    "results = model.evaluate(X_test, y_test)"
   ]
  },
  {
   "cell_type": "code",
   "execution_count": 55,
   "metadata": {},
   "outputs": [
    {
     "name": "stdout",
     "output_type": "stream",
     "text": [
      "Test accuracy:  0.6363333333333333\n"
     ]
    }
   ],
   "source": [
    "print('Test accuracy: ', results[1])"
   ]
  },
  {
   "cell_type": "markdown",
   "metadata": {},
   "source": [
    "> Better results with **63.63%** accuracy. Now, since the model looks good we can try iterate with various combination of layers and neurons"
   ]
  },
  {
   "cell_type": "markdown",
   "metadata": {},
   "source": [
    "### Iterate #1"
   ]
  },
  {
   "cell_type": "markdown",
   "metadata": {},
   "source": [
    "Neural Network with one input layer which have 1024(image pixel size) and one hidden layer with 250 neurons, hence the weight matrix 250 1024 and another hidder layer with 125 neurons. We have 10 neurans since we have 10 outputs.   "
   ]
  },
  {
   "cell_type": "code",
   "execution_count": 56,
   "metadata": {},
   "outputs": [],
   "source": [
    "def mlp_model():\n",
    "    model = Sequential()\n",
    "    \n",
    "    model.add(Dense(250, input_shape = (1024, ), kernel_initializer='he_normal'))\n",
    "    model.add(BatchNormalization())\n",
    "    model.add(Activation('relu'))\n",
    "    model.add(Dropout(0.2))\n",
    "    \n",
    "    model.add(Dense(125, kernel_initializer='he_normal'))\n",
    "    model.add(BatchNormalization())\n",
    "    model.add(Activation('relu'))    \n",
    "    model.add(Dropout(0.2))\n",
    "    \n",
    "    model.add(Dense(10, kernel_initializer='he_normal'))\n",
    "    model.add(Activation('softmax'))\n",
    "    \n",
    "    adam = optimizers.Adam(lr = 0.001)\n",
    "    model.compile(optimizer = adam, loss = 'categorical_crossentropy', metrics = ['accuracy'])\n",
    "    model.summary()\n",
    "    \n",
    "    return model"
   ]
  },
  {
   "cell_type": "code",
   "execution_count": 57,
   "metadata": {},
   "outputs": [
    {
     "name": "stdout",
     "output_type": "stream",
     "text": [
      "_________________________________________________________________\n",
      "Layer (type)                 Output Shape              Param #   \n",
      "=================================================================\n",
      "dense_48 (Dense)             (None, 250)               256250    \n",
      "_________________________________________________________________\n",
      "batch_normalization_22 (Batc (None, 250)               1000      \n",
      "_________________________________________________________________\n",
      "activation_48 (Activation)   (None, 250)               0         \n",
      "_________________________________________________________________\n",
      "dropout_14 (Dropout)         (None, 250)               0         \n",
      "_________________________________________________________________\n",
      "dense_49 (Dense)             (None, 125)               31375     \n",
      "_________________________________________________________________\n",
      "batch_normalization_23 (Batc (None, 125)               500       \n",
      "_________________________________________________________________\n",
      "activation_49 (Activation)   (None, 125)               0         \n",
      "_________________________________________________________________\n",
      "dropout_15 (Dropout)         (None, 125)               0         \n",
      "_________________________________________________________________\n",
      "dense_50 (Dense)             (None, 10)                1260      \n",
      "_________________________________________________________________\n",
      "activation_50 (Activation)   (None, 10)                0         \n",
      "=================================================================\n",
      "Total params: 290,385\n",
      "Trainable params: 289,635\n",
      "Non-trainable params: 750\n",
      "_________________________________________________________________\n",
      "Train on 42000 samples, validate on 60000 samples\n",
      "Epoch 1/10\n",
      "42000/42000 [==============================] - 12s 279us/step - loss: 1.5806 - acc: 0.4719 - val_loss: 1.3798 - val_acc: 0.5510\n",
      "Epoch 2/10\n",
      "42000/42000 [==============================] - 10s 235us/step - loss: 1.1609 - acc: 0.6286 - val_loss: 1.3512 - val_acc: 0.5380\n",
      "Epoch 3/10\n",
      "42000/42000 [==============================] - 10s 231us/step - loss: 1.0287 - acc: 0.6702 - val_loss: 1.1752 - val_acc: 0.6055\n",
      "Epoch 4/10\n",
      "42000/42000 [==============================] - 10s 236us/step - loss: 0.9496 - acc: 0.7005 - val_loss: 1.2133 - val_acc: 0.6074\n",
      "Epoch 5/10\n",
      "42000/42000 [==============================] - 10s 235us/step - loss: 0.9002 - acc: 0.7130 - val_loss: 0.9149 - val_acc: 0.7135\n",
      "Epoch 6/10\n",
      "42000/42000 [==============================] - 10s 234us/step - loss: 0.8584 - acc: 0.7272 - val_loss: 1.1351 - val_acc: 0.6320\n",
      "Epoch 7/10\n",
      "42000/42000 [==============================] - 10s 238us/step - loss: 0.8225 - acc: 0.7398 - val_loss: 1.2336 - val_acc: 0.6026\n",
      "Epoch 8/10\n",
      "42000/42000 [==============================] - 10s 236us/step - loss: 0.7995 - acc: 0.7473 - val_loss: 0.8778 - val_acc: 0.7268\n",
      "Epoch 9/10\n",
      "42000/42000 [==============================] - 10s 229us/step - loss: 0.7793 - acc: 0.7523 - val_loss: 1.1380 - val_acc: 0.6219\n",
      "Epoch 10/10\n",
      "42000/42000 [==============================] - 10s 228us/step - loss: 0.7644 - acc: 0.7577 - val_loss: 0.9672 - val_acc: 0.6732\n"
     ]
    }
   ],
   "source": [
    "model = mlp_model()\n",
    "history = model.fit(X_train, y_train, epochs = 10, verbose = 1, validation_data=(X_val, y_val))"
   ]
  },
  {
   "cell_type": "code",
   "execution_count": 58,
   "metadata": {},
   "outputs": [
    {
     "name": "stdout",
     "output_type": "stream",
     "text": [
      "18000/18000 [==============================] - 1s 36us/step\n"
     ]
    }
   ],
   "source": [
    "results = model.evaluate(X_test, y_test)"
   ]
  },
  {
   "cell_type": "code",
   "execution_count": 59,
   "metadata": {},
   "outputs": [
    {
     "name": "stdout",
     "output_type": "stream",
     "text": [
      "Test accuracy:  0.6600555555555555\n"
     ]
    }
   ],
   "source": [
    "print('Test accuracy: ', results[1])"
   ]
  },
  {
   "cell_type": "markdown",
   "metadata": {},
   "source": [
    "> Iterate #1 has increases the accuracy to **66%** "
   ]
  },
  {
   "cell_type": "markdown",
   "metadata": {},
   "source": [
    "### Iterate #3"
   ]
  },
  {
   "cell_type": "markdown",
   "metadata": {},
   "source": [
    "Adding two inputs layers with first layer having 250 neurons with weight matrix 250 1024, second one with again 250 neurons with weight matrix 250 250, third layer with 125 neurons and output layer with 10 neurons"
   ]
  },
  {
   "cell_type": "code",
   "execution_count": 60,
   "metadata": {},
   "outputs": [],
   "source": [
    "def mlp_model():\n",
    "    model = Sequential()\n",
    "    \n",
    "    model.add(Dense(250, input_shape = (1024, ), kernel_initializer='he_normal'))\n",
    "    model.add(BatchNormalization())\n",
    "    model.add(Activation('relu'))\n",
    "    model.add(Dropout(0.2))\n",
    "    \n",
    "    model.add(Dense(250, input_shape = (250, ), kernel_initializer='he_normal'))\n",
    "    model.add(BatchNormalization())\n",
    "    model.add(Activation('relu'))\n",
    "    model.add(Dropout(0.2))\n",
    "    \n",
    "    model.add(Dense(125, kernel_initializer='he_normal'))\n",
    "    model.add(BatchNormalization())\n",
    "    model.add(Activation('relu'))    \n",
    "    model.add(Dropout(0.2))\n",
    "    \n",
    "    model.add(Dense(10, kernel_initializer='he_normal'))\n",
    "    model.add(Activation('softmax'))\n",
    "    \n",
    "    adam = optimizers.Adam(lr = 0.001)\n",
    "    model.compile(optimizer = adam, loss = 'categorical_crossentropy', metrics = ['accuracy'])\n",
    "    model.summary()\n",
    "    \n",
    "    return model"
   ]
  },
  {
   "cell_type": "code",
   "execution_count": 61,
   "metadata": {},
   "outputs": [
    {
     "name": "stdout",
     "output_type": "stream",
     "text": [
      "_________________________________________________________________\n",
      "Layer (type)                 Output Shape              Param #   \n",
      "=================================================================\n",
      "dense_51 (Dense)             (None, 250)               256250    \n",
      "_________________________________________________________________\n",
      "batch_normalization_24 (Batc (None, 250)               1000      \n",
      "_________________________________________________________________\n",
      "activation_51 (Activation)   (None, 250)               0         \n",
      "_________________________________________________________________\n",
      "dropout_16 (Dropout)         (None, 250)               0         \n",
      "_________________________________________________________________\n",
      "dense_52 (Dense)             (None, 250)               62750     \n",
      "_________________________________________________________________\n",
      "batch_normalization_25 (Batc (None, 250)               1000      \n",
      "_________________________________________________________________\n",
      "activation_52 (Activation)   (None, 250)               0         \n",
      "_________________________________________________________________\n",
      "dropout_17 (Dropout)         (None, 250)               0         \n",
      "_________________________________________________________________\n",
      "dense_53 (Dense)             (None, 125)               31375     \n",
      "_________________________________________________________________\n",
      "batch_normalization_26 (Batc (None, 125)               500       \n",
      "_________________________________________________________________\n",
      "activation_53 (Activation)   (None, 125)               0         \n",
      "_________________________________________________________________\n",
      "dropout_18 (Dropout)         (None, 125)               0         \n",
      "_________________________________________________________________\n",
      "dense_54 (Dense)             (None, 10)                1260      \n",
      "_________________________________________________________________\n",
      "activation_54 (Activation)   (None, 10)                0         \n",
      "=================================================================\n",
      "Total params: 354,135\n",
      "Trainable params: 352,885\n",
      "Non-trainable params: 1,250\n",
      "_________________________________________________________________\n",
      "Train on 42000 samples, validate on 60000 samples\n",
      "Epoch 1/10\n",
      "42000/42000 [==============================] - 15s 346us/step - loss: 1.6736 - acc: 0.4289 - val_loss: 1.4639 - val_acc: 0.5311\n",
      "Epoch 2/10\n",
      "42000/42000 [==============================] - 12s 296us/step - loss: 1.2048 - acc: 0.6119 - val_loss: 1.3172 - val_acc: 0.5535\n",
      "Epoch 3/10\n",
      "42000/42000 [==============================] - 12s 291us/step - loss: 1.0804 - acc: 0.6542 - val_loss: 1.1052 - val_acc: 0.6714\n",
      "Epoch 4/10\n",
      "42000/42000 [==============================] - 13s 308us/step - loss: 0.9929 - acc: 0.6843 - val_loss: 0.9911 - val_acc: 0.7005\n",
      "Epoch 5/10\n",
      "42000/42000 [==============================] - 13s 303us/step - loss: 0.9296 - acc: 0.7041 - val_loss: 0.9137 - val_acc: 0.7134\n",
      "Epoch 6/10\n",
      "42000/42000 [==============================] - 13s 310us/step - loss: 0.8859 - acc: 0.7184 - val_loss: 0.9787 - val_acc: 0.7047\n",
      "Epoch 7/10\n",
      "42000/42000 [==============================] - 13s 312us/step - loss: 0.8475 - acc: 0.7334 - val_loss: 0.8266 - val_acc: 0.7555\n",
      "Epoch 8/10\n",
      "42000/42000 [==============================] - 13s 304us/step - loss: 0.8198 - acc: 0.7396 - val_loss: 0.8570 - val_acc: 0.7482\n",
      "Epoch 9/10\n",
      "42000/42000 [==============================] - 13s 306us/step - loss: 0.7926 - acc: 0.7496 - val_loss: 1.0017 - val_acc: 0.6794\n",
      "Epoch 10/10\n",
      "42000/42000 [==============================] - 13s 304us/step - loss: 0.7732 - acc: 0.7551 - val_loss: 0.7350 - val_acc: 0.7720\n"
     ]
    }
   ],
   "source": [
    "model = mlp_model()\n",
    "history = model.fit(X_train, y_train, epochs = 10, verbose = 1, validation_data=(X_val, y_val))"
   ]
  },
  {
   "cell_type": "code",
   "execution_count": 62,
   "metadata": {},
   "outputs": [
    {
     "name": "stdout",
     "output_type": "stream",
     "text": [
      "18000/18000 [==============================] - 1s 48us/step\n"
     ]
    }
   ],
   "source": [
    "results = model.evaluate(X_test, y_test)"
   ]
  },
  {
   "cell_type": "code",
   "execution_count": 63,
   "metadata": {},
   "outputs": [
    {
     "name": "stdout",
     "output_type": "stream",
     "text": [
      "Test accuracy:  0.7563888888888889\n"
     ]
    }
   ],
   "source": [
    "print('Test accuracy: ', results[1])"
   ]
  },
  {
   "cell_type": "markdown",
   "metadata": {},
   "source": [
    "> This model yeilds the a very good score compared any other earlier models with **75.63% accuracy**"
   ]
  },
  {
   "cell_type": "markdown",
   "metadata": {},
   "source": [
    "### Iterate #3: Tried with different learning rate 0.004"
   ]
  },
  {
   "cell_type": "code",
   "execution_count": 90,
   "metadata": {},
   "outputs": [],
   "source": [
    "def mlp_model():\n",
    "    model = Sequential()\n",
    "    \n",
    "    model.add(Dense(250, input_shape = (1024, ), kernel_initializer='he_normal'))\n",
    "    model.add(BatchNormalization())\n",
    "    model.add(Activation('relu'))\n",
    "    model.add(Dropout(0.2))\n",
    "    \n",
    "    model.add(Dense(250, input_shape = (250, ), kernel_initializer='he_normal'))\n",
    "    model.add(BatchNormalization())\n",
    "    model.add(Activation('relu'))\n",
    "    model.add(Dropout(0.2))\n",
    "    \n",
    "    model.add(Dense(125, kernel_initializer='he_normal'))\n",
    "    model.add(BatchNormalization())\n",
    "    model.add(Activation('relu'))    \n",
    "    model.add(Dropout(0.2))\n",
    "    \n",
    "    model.add(Dense(10, kernel_initializer='he_normal'))\n",
    "    model.add(Activation('softmax'))\n",
    "    \n",
    "    adam = optimizers.Adam(lr = 0.004)\n",
    "    model.compile(optimizer = adam, loss = 'categorical_crossentropy', metrics = ['accuracy'])\n",
    "    model.summary()\n",
    "    \n",
    "    return model"
   ]
  },
  {
   "cell_type": "code",
   "execution_count": 91,
   "metadata": {},
   "outputs": [
    {
     "name": "stdout",
     "output_type": "stream",
     "text": [
      "_________________________________________________________________\n",
      "Layer (type)                 Output Shape              Param #   \n",
      "=================================================================\n",
      "dense_83 (Dense)             (None, 250)               256250    \n",
      "_________________________________________________________________\n",
      "batch_normalization_48 (Batc (None, 250)               1000      \n",
      "_________________________________________________________________\n",
      "activation_83 (Activation)   (None, 250)               0         \n",
      "_________________________________________________________________\n",
      "dropout_40 (Dropout)         (None, 250)               0         \n",
      "_________________________________________________________________\n",
      "dense_84 (Dense)             (None, 250)               62750     \n",
      "_________________________________________________________________\n",
      "batch_normalization_49 (Batc (None, 250)               1000      \n",
      "_________________________________________________________________\n",
      "activation_84 (Activation)   (None, 250)               0         \n",
      "_________________________________________________________________\n",
      "dropout_41 (Dropout)         (None, 250)               0         \n",
      "_________________________________________________________________\n",
      "dense_85 (Dense)             (None, 125)               31375     \n",
      "_________________________________________________________________\n",
      "batch_normalization_50 (Batc (None, 125)               500       \n",
      "_________________________________________________________________\n",
      "activation_85 (Activation)   (None, 125)               0         \n",
      "_________________________________________________________________\n",
      "dropout_42 (Dropout)         (None, 125)               0         \n",
      "_________________________________________________________________\n",
      "dense_86 (Dense)             (None, 10)                1260      \n",
      "_________________________________________________________________\n",
      "activation_86 (Activation)   (None, 10)                0         \n",
      "=================================================================\n",
      "Total params: 354,135\n",
      "Trainable params: 352,885\n",
      "Non-trainable params: 1,250\n",
      "_________________________________________________________________\n",
      "Train on 42000 samples, validate on 60000 samples\n",
      "Epoch 1/10\n",
      "42000/42000 [==============================] - 20s 468us/step - loss: 1.6219 - acc: 0.4450 - val_loss: 1.4831 - val_acc: 0.4990\n",
      "Epoch 2/10\n",
      "42000/42000 [==============================] - 15s 363us/step - loss: 1.1874 - acc: 0.6198 - val_loss: 1.3915 - val_acc: 0.5377\n",
      "Epoch 3/10\n",
      "42000/42000 [==============================] - 15s 360us/step - loss: 1.0689 - acc: 0.6595 - val_loss: 1.2075 - val_acc: 0.6009\n",
      "Epoch 4/10\n",
      "42000/42000 [==============================] - 15s 367us/step - loss: 0.9945 - acc: 0.6839 - val_loss: 1.1293 - val_acc: 0.6412\n",
      "Epoch 5/10\n",
      "42000/42000 [==============================] - 15s 366us/step - loss: 0.9363 - acc: 0.7031 - val_loss: 1.0458 - val_acc: 0.6640\n",
      "Epoch 6/10\n",
      "42000/42000 [==============================] - 16s 371us/step - loss: 0.9035 - acc: 0.7157 - val_loss: 0.9896 - val_acc: 0.7133\n",
      "Epoch 7/10\n",
      "42000/42000 [==============================] - 16s 371us/step - loss: 0.8723 - acc: 0.7246 - val_loss: 0.9630 - val_acc: 0.6872\n",
      "Epoch 8/10\n",
      "42000/42000 [==============================] - 16s 384us/step - loss: 0.8436 - acc: 0.7338 - val_loss: 0.8069 - val_acc: 0.7641\n",
      "Epoch 9/10\n",
      "42000/42000 [==============================] - 16s 376us/step - loss: 0.8158 - acc: 0.7443 - val_loss: 0.8579 - val_acc: 0.7307\n",
      "Epoch 10/10\n",
      "42000/42000 [==============================] - 16s 379us/step - loss: 0.7961 - acc: 0.7499 - val_loss: 0.7325 - val_acc: 0.7899\n"
     ]
    }
   ],
   "source": [
    "model = mlp_model()\n",
    "history = model.fit(X_train, y_train, epochs = 10, verbose = 1, validation_data=(X_val, y_val))"
   ]
  },
  {
   "cell_type": "code",
   "execution_count": 92,
   "metadata": {},
   "outputs": [
    {
     "name": "stdout",
     "output_type": "stream",
     "text": [
      "18000/18000 [==============================] - 1s 68us/step\n"
     ]
    }
   ],
   "source": [
    "results = model.evaluate(X_test, y_test)"
   ]
  },
  {
   "cell_type": "code",
   "execution_count": 93,
   "metadata": {},
   "outputs": [
    {
     "name": "stdout",
     "output_type": "stream",
     "text": [
      "Test accuracy:  0.7767222222222222\n"
     ]
    }
   ],
   "source": [
    "print('Test accuracy: ', results[1])"
   ]
  },
  {
   "cell_type": "markdown",
   "metadata": {},
   "source": [
    "> **Conclude:** The final iterative model with learning rate of 0.004 has the highest accuracy of **77.67%**\n",
    "\n",
    "> **Hyperparameters used:** Dropout, Weight Initialization, Activation Function, Learning Rate, Number of Epochs"
   ]
  }
 ],
 "metadata": {
  "kernelspec": {
   "display_name": "Python 3",
   "language": "python",
   "name": "python3"
  },
  "language_info": {
   "codemirror_mode": {
    "name": "ipython",
    "version": 3
   },
   "file_extension": ".py",
   "mimetype": "text/x-python",
   "name": "python",
   "nbconvert_exporter": "python",
   "pygments_lexer": "ipython3",
   "version": "3.7.1"
  }
 },
 "nbformat": 4,
 "nbformat_minor": 2
}
